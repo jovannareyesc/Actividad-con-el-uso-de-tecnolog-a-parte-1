{
 "cells": [
  {
   "cell_type": "code",
   "execution_count": null,
   "id": "99010a72",
   "metadata": {},
   "outputs": [
    {
     "name": "stdout",
     "output_type": "stream",
     "text": [
      "===========Ecuación diferencial exacta===========\n",
      "Ecuación: (3*x**2*y + exp(y)) dx + (x**3 + x*exp(y) - 2*y) dy = 0\n",
      "\n",
      "Condición de exactitud:\n",
      "∂M/∂x = 3*x**2 + exp(y)\n",
      "∂N/∂y = 3*x**2 + exp(y)\n",
      "¡La ecuación es exacta!\n",
      "\n",
      "Función potencial inicial (tras integrar M wrt x):\n",
      "x**3*y + x*exp(y) + h(y)\n",
      "\n",
      "Función potencial completa F(x,y):\n",
      "x**3*y + x*exp(y) - y**2 - h(y)\n",
      "\n",
      "========Solución General========\n",
      "Eq(x**3*y + x*exp(y) - y**2 - h(y), C)\n"
     ]
    }
   ],
   "source": [
    "# Reyes Casillas, Jovanna Amiraxel\n",
    "# Ecuaciones Diferenciales\n",
    "# Actividad con el uso de tecnología parte 1\n",
    "# Lunes, 22 de septiembre de 2025\n",
    "\n",
    "import sympy as sp\n",
    "\n",
    "x, y = sp.symbols('x y')\n",
    "\n",
    "# definimos M(x,y) y N(x,y)\n",
    "M = 3*x**2*y + sp.exp(y)\n",
    "N = x**3 + x*sp.exp(y) - 2*y\n",
    "\n",
    "print(\"===========Ecuación diferencial exacta===========\")\n",
    "print(f\"Ecuación: ({M}) dx + ({N}) dy = 0\")\n",
    "\n",
    "# checando si es exacta\n",
    "dM_dx = sp.diff(M, y)\n",
    "dN_dy = sp.diff(N, x)\n",
    "print(\"\\nCondición de exactitud:\")\n",
    "print(\"∂M/∂x =\", dM_dx)\n",
    "print(\"∂N/∂y =\", dN_dy)\n",
    "\n",
    "if dM_dx == dN_dy:\n",
    "    print(\"¡La ecuación es exacta!\\n\")\n",
    "\n",
    "    # integramos M respecto a x\n",
    "    F = sp.integrate(M, x) + sp.Function('h')(y)\n",
    "    print(\"Función potencial inicial (tras integrar M wrt x):\")\n",
    "    print(F)\n",
    "\n",
    "    # derivamos F con respecto a y e igualamos con N\n",
    "    F_y = sp.diff(F, y)\n",
    "    h_y = sp.simplify(N - F_y)  # h'(y)\n",
    "    h = sp.integrate(h_y, y)    # integrar para encontrar h(y)\n",
    "\n",
    "    # sustituimos h(y) o sea N en F\n",
    "    F = F.subs(sp.Function('h')(y), h)\n",
    "    print(\"\\nFunción potencial completa F(x,y):\")\n",
    "    print(F)\n",
    "\n",
    "    # solución\n",
    "    sol = sp.Eq(F, sp.Symbol('C'))\n",
    "    print(\"\\n========Solución General========\")\n",
    "    print(sol)\n",
    "else:\n",
    "    print(\"La ecuación NO es exacta.\")"
   ]
  },
  {
   "cell_type": "code",
   "execution_count": null,
   "id": "b8c19bff",
   "metadata": {},
   "outputs": [],
   "source": []
  }
 ],
 "metadata": {
  "kernelspec": {
   "display_name": "base",
   "language": "python",
   "name": "python3"
  },
  "language_info": {
   "codemirror_mode": {
    "name": "ipython",
    "version": 3
   },
   "file_extension": ".py",
   "mimetype": "text/x-python",
   "name": "python",
   "nbconvert_exporter": "python",
   "pygments_lexer": "ipython3",
   "version": "3.12.2"
  }
 },
 "nbformat": 4,
 "nbformat_minor": 5
}
